{
  "nbformat": 4,
  "nbformat_minor": 0,
  "metadata": {
    "colab": {
      "provenance": []
    },
    "kernelspec": {
      "name": "python3",
      "display_name": "Python 3"
    },
    "language_info": {
      "name": "python"
    }
  },
  "cells": [
    {
      "cell_type": "markdown",
      "source": [
        "# **Projects to be Submitted by Students**"
      ],
      "metadata": {
        "id": "3vbDc6oPFM4F"
      }
    },
    {
      "cell_type": "markdown",
      "source": [
        "**Project 3: Guess the Number (User)**"
      ],
      "metadata": {
        "id": "iVnUWLvRFXHs"
      }
    },
    {
      "cell_type": "code",
      "execution_count": null,
      "metadata": {
        "colab": {
          "base_uri": "https://localhost:8080/"
        },
        "id": "jiJNWGj-DQ9M",
        "outputId": "a16f6faa-5e15-456c-b75e-9078146a5c60"
      },
      "outputs": [
        {
          "output_type": "stream",
          "name": "stdout",
          "text": [
            "Is 2 too high (H), too low (L), or correct (C)?? l\n",
            "Is 10 too high (H), too low (L), or correct (C)?? h\n",
            "Is 7 too high (H), too low (L), or correct (C)?? h\n",
            "Is 4 too high (H), too low (L), or correct (C)?? l\n",
            "Is 6 too high (H), too low (L), or correct (C)?? h\n",
            "Is 5 too high (H), too low (L), or correct (C)?? c\n",
            "Yay! The computer guessed your number, 5, correctly!\n"
          ]
        }
      ],
      "source": [
        "import random\n",
        "def computer_guess(x):\n",
        "  low = 1\n",
        "  high = x\n",
        "  feedback = ''\n",
        "  while feedback != 'c':\n",
        "    if low != high:\n",
        "      guess = random.randint(low, high)\n",
        "    else:\n",
        "      guess = low   # could also be high becoz low = high\n",
        "    feedback = input(f'Is {guess} too high (H), too low (L), or correct (C)?? ')\n",
        "    if feedback == 'h':\n",
        "      high = guess - 1\n",
        "    elif feedback == 'l':\n",
        "      low = guess + 1\n",
        "\n",
        "  print(f'Yay! The computer guessed your number, {guess}, correctly!')\n",
        "\n",
        "\n",
        "\n",
        "computer_guess(10)"
      ]
    }
  ]
}